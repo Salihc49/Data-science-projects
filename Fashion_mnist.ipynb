{
  "nbformat": 4,
  "nbformat_minor": 0,
  "metadata": {
    "colab": {
      "provenance": [],
      "authorship_tag": "ABX9TyPcUWhCpfHo9OIljuvH28Mf",
      "include_colab_link": true
    },
    "kernelspec": {
      "name": "python3",
      "display_name": "Python 3"
    },
    "language_info": {
      "name": "python"
    },
    "gpuClass": "standard",
    "accelerator": "GPU"
  },
  "cells": [
    {
      "cell_type": "markdown",
      "metadata": {
        "id": "view-in-github",
        "colab_type": "text"
      },
      "source": [
        "<a href=\"https://colab.research.google.com/github/Salihc49/Data-science-projects/blob/main/Fashion_mnist.ipynb\" target=\"_parent\"><img src=\"https://colab.research.google.com/assets/colab-badge.svg\" alt=\"Open In Colab\"/></a>"
      ]
    },
    {
      "cell_type": "code",
      "execution_count": null,
      "metadata": {
        "id": "jOB5i7x0261z"
      },
      "outputs": [],
      "source": [
        "import tensorflow as tf\n",
        "from keras.datasets import fashion_mnist\n",
        "from tensorflow.keras import Sequential\n",
        "from tensorflow.keras.layers import Flatten,Dense"
      ]
    },
    {
      "cell_type": "code",
      "source": [
        "(X_train,y_train),(X_test,y_test) = fashion_mnist.load_data()"
      ],
      "metadata": {
        "colab": {
          "base_uri": "https://localhost:8080/"
        },
        "id": "q8Q2uxM23gNq",
        "outputId": "de22f661-18db-493d-e9b4-0d01103adba0"
      },
      "execution_count": null,
      "outputs": [
        {
          "output_type": "stream",
          "name": "stdout",
          "text": [
            "Downloading data from https://storage.googleapis.com/tensorflow/tf-keras-datasets/train-labels-idx1-ubyte.gz\n",
            "29515/29515 [==============================] - 0s 0us/step\n",
            "Downloading data from https://storage.googleapis.com/tensorflow/tf-keras-datasets/train-images-idx3-ubyte.gz\n",
            "26421880/26421880 [==============================] - 1s 0us/step\n",
            "Downloading data from https://storage.googleapis.com/tensorflow/tf-keras-datasets/t10k-labels-idx1-ubyte.gz\n",
            "5148/5148 [==============================] - 0s 0us/step\n",
            "Downloading data from https://storage.googleapis.com/tensorflow/tf-keras-datasets/t10k-images-idx3-ubyte.gz\n",
            "4422102/4422102 [==============================] - 0s 0us/step\n"
          ]
        }
      ]
    },
    {
      "cell_type": "code",
      "source": [
        "print(X_train.shape,y_train.shape)"
      ],
      "metadata": {
        "colab": {
          "base_uri": "https://localhost:8080/"
        },
        "id": "sQw9VnpM4Is-",
        "outputId": "a92e2846-0368-430c-c04c-40bfd44de543"
      },
      "execution_count": null,
      "outputs": [
        {
          "output_type": "stream",
          "name": "stdout",
          "text": [
            "(60000, 28, 28) (60000,)\n"
          ]
        }
      ]
    },
    {
      "cell_type": "code",
      "source": [
        "lst = []\n",
        "for i in y_train:\n",
        "  if i not in lst:\n",
        "    lst.append(i)"
      ],
      "metadata": {
        "id": "PfYjChbA4Vou"
      },
      "execution_count": null,
      "outputs": []
    },
    {
      "cell_type": "code",
      "source": [
        "set(y_train)"
      ],
      "metadata": {
        "colab": {
          "base_uri": "https://localhost:8080/"
        },
        "id": "JB0VLxwo4RuY",
        "outputId": "a7f01fd8-5f84-46b0-f77c-e4f1f49a3acc"
      },
      "execution_count": null,
      "outputs": [
        {
          "output_type": "execute_result",
          "data": {
            "text/plain": [
              "{0, 1, 2, 3, 4, 5, 6, 7, 8, 9}"
            ]
          },
          "metadata": {},
          "execution_count": 5
        }
      ]
    },
    {
      "cell_type": "code",
      "source": [
        "model=Sequential()\n",
        "model.add(Flatten(input_shape=(28,28,1)))\n",
        "model.add(Dense(10,activation=\"relu\"))\n",
        "model.add(Dense(65, activation=\"relu\"))\n",
        "model.add(Dense(10, activation=\"softmax\"))"
      ],
      "metadata": {
        "id": "KwFE89mQ4s31"
      },
      "execution_count": null,
      "outputs": []
    },
    {
      "cell_type": "code",
      "source": [
        "model.compile(optimizer='adam',loss='sparse_categorical_crossentropy',\n",
        "metrics=['accuracy'])"
      ],
      "metadata": {
        "id": "HBCbqXpAUAdE"
      },
      "execution_count": null,
      "outputs": []
    },
    {
      "cell_type": "code",
      "source": [
        "history = model.fit(X_train,y_train,validation_data=(X_test,y_test),epochs=100,batch_size=512)"
      ],
      "metadata": {
        "colab": {
          "base_uri": "https://localhost:8080/"
        },
        "id": "Z4dYAQ1eUOZC",
        "outputId": "1e575a5a-126a-48dd-b76d-8b876ecb8660"
      },
      "execution_count": null,
      "outputs": [
        {
          "output_type": "stream",
          "name": "stdout",
          "text": [
            "Epoch 1/100\n",
            "118/118 [==============================] - 1s 5ms/step - loss: 0.7907 - accuracy: 0.6630 - val_loss: 0.8090 - val_accuracy: 0.6675\n",
            "Epoch 2/100\n",
            "118/118 [==============================] - 0s 4ms/step - loss: 0.8050 - accuracy: 0.6562 - val_loss: 0.8109 - val_accuracy: 0.6635\n",
            "Epoch 3/100\n",
            "118/118 [==============================] - 1s 4ms/step - loss: 0.8100 - accuracy: 0.6576 - val_loss: 0.8606 - val_accuracy: 0.6467\n",
            "Epoch 4/100\n",
            "118/118 [==============================] - 0s 4ms/step - loss: 0.7893 - accuracy: 0.6662 - val_loss: 0.8262 - val_accuracy: 0.6628\n",
            "Epoch 5/100\n",
            "118/118 [==============================] - 0s 4ms/step - loss: 0.7906 - accuracy: 0.6645 - val_loss: 0.8187 - val_accuracy: 0.6724\n",
            "Epoch 6/100\n",
            "118/118 [==============================] - 0s 4ms/step - loss: 0.7830 - accuracy: 0.6793 - val_loss: 0.8634 - val_accuracy: 0.6771\n",
            "Epoch 7/100\n",
            "118/118 [==============================] - 0s 4ms/step - loss: 0.7713 - accuracy: 0.6913 - val_loss: 0.8010 - val_accuracy: 0.6886\n",
            "Epoch 8/100\n",
            "118/118 [==============================] - 0s 4ms/step - loss: 0.7370 - accuracy: 0.7157 - val_loss: 0.7389 - val_accuracy: 0.7285\n",
            "Epoch 9/100\n",
            "118/118 [==============================] - 0s 4ms/step - loss: 0.7095 - accuracy: 0.7304 - val_loss: 0.7960 - val_accuracy: 0.7386\n",
            "Epoch 10/100\n",
            "118/118 [==============================] - 0s 4ms/step - loss: 0.6719 - accuracy: 0.7602 - val_loss: 0.6886 - val_accuracy: 0.7665\n",
            "Epoch 11/100\n",
            "118/118 [==============================] - 0s 4ms/step - loss: 0.6765 - accuracy: 0.7633 - val_loss: 0.6891 - val_accuracy: 0.7593\n",
            "Epoch 12/100\n",
            "118/118 [==============================] - 0s 4ms/step - loss: 0.6264 - accuracy: 0.7815 - val_loss: 0.6635 - val_accuracy: 0.7724\n",
            "Epoch 13/100\n",
            "118/118 [==============================] - 1s 4ms/step - loss: 0.6199 - accuracy: 0.7851 - val_loss: 0.6624 - val_accuracy: 0.7741\n",
            "Epoch 14/100\n",
            "118/118 [==============================] - 1s 6ms/step - loss: 0.6231 - accuracy: 0.7849 - val_loss: 0.6771 - val_accuracy: 0.7678\n",
            "Epoch 15/100\n",
            "118/118 [==============================] - 1s 6ms/step - loss: 0.6075 - accuracy: 0.7902 - val_loss: 0.6541 - val_accuracy: 0.7744\n",
            "Epoch 16/100\n",
            "118/118 [==============================] - 1s 6ms/step - loss: 0.6252 - accuracy: 0.7838 - val_loss: 0.6655 - val_accuracy: 0.7689\n",
            "Epoch 17/100\n",
            "118/118 [==============================] - 1s 5ms/step - loss: 0.6035 - accuracy: 0.7911 - val_loss: 0.6756 - val_accuracy: 0.7713\n",
            "Epoch 18/100\n",
            "118/118 [==============================] - 0s 4ms/step - loss: 0.6159 - accuracy: 0.7889 - val_loss: 0.7099 - val_accuracy: 0.7548\n",
            "Epoch 19/100\n",
            "118/118 [==============================] - 1s 4ms/step - loss: 0.6073 - accuracy: 0.7901 - val_loss: 0.6396 - val_accuracy: 0.7823\n",
            "Epoch 20/100\n",
            "118/118 [==============================] - 1s 4ms/step - loss: 0.6183 - accuracy: 0.7884 - val_loss: 0.6555 - val_accuracy: 0.7758\n",
            "Epoch 21/100\n",
            "118/118 [==============================] - 0s 4ms/step - loss: 0.6029 - accuracy: 0.7933 - val_loss: 0.6330 - val_accuracy: 0.7848\n",
            "Epoch 22/100\n",
            "118/118 [==============================] - 0s 4ms/step - loss: 0.5925 - accuracy: 0.7954 - val_loss: 0.7745 - val_accuracy: 0.7018\n",
            "Epoch 23/100\n",
            "118/118 [==============================] - 0s 4ms/step - loss: 0.6148 - accuracy: 0.7884 - val_loss: 0.6188 - val_accuracy: 0.7930\n",
            "Epoch 24/100\n",
            "118/118 [==============================] - 0s 4ms/step - loss: 0.5879 - accuracy: 0.7964 - val_loss: 0.6873 - val_accuracy: 0.7645\n",
            "Epoch 25/100\n",
            "118/118 [==============================] - 0s 4ms/step - loss: 0.5902 - accuracy: 0.7958 - val_loss: 0.6430 - val_accuracy: 0.7765\n",
            "Epoch 26/100\n",
            "118/118 [==============================] - 0s 4ms/step - loss: 0.5804 - accuracy: 0.7993 - val_loss: 0.6100 - val_accuracy: 0.7952\n",
            "Epoch 27/100\n",
            "118/118 [==============================] - 0s 4ms/step - loss: 0.5790 - accuracy: 0.7998 - val_loss: 0.6161 - val_accuracy: 0.7869\n",
            "Epoch 28/100\n",
            "118/118 [==============================] - 0s 4ms/step - loss: 0.5888 - accuracy: 0.7970 - val_loss: 0.8255 - val_accuracy: 0.7389\n",
            "Epoch 29/100\n",
            "118/118 [==============================] - 0s 4ms/step - loss: 0.5927 - accuracy: 0.7935 - val_loss: 0.6220 - val_accuracy: 0.7862\n",
            "Epoch 30/100\n",
            "118/118 [==============================] - 0s 4ms/step - loss: 0.5768 - accuracy: 0.8011 - val_loss: 0.6187 - val_accuracy: 0.7870\n",
            "Epoch 31/100\n",
            "118/118 [==============================] - 0s 4ms/step - loss: 0.5817 - accuracy: 0.7965 - val_loss: 0.6969 - val_accuracy: 0.7690\n",
            "Epoch 32/100\n",
            "118/118 [==============================] - 0s 4ms/step - loss: 0.5787 - accuracy: 0.7986 - val_loss: 0.6260 - val_accuracy: 0.7851\n",
            "Epoch 33/100\n",
            "118/118 [==============================] - 0s 4ms/step - loss: 0.5785 - accuracy: 0.8005 - val_loss: 0.6024 - val_accuracy: 0.7905\n",
            "Epoch 34/100\n",
            "118/118 [==============================] - 0s 4ms/step - loss: 0.5793 - accuracy: 0.8001 - val_loss: 0.6322 - val_accuracy: 0.7849\n",
            "Epoch 35/100\n",
            "118/118 [==============================] - 0s 4ms/step - loss: 0.5802 - accuracy: 0.7984 - val_loss: 0.6276 - val_accuracy: 0.7861\n",
            "Epoch 36/100\n",
            "118/118 [==============================] - 0s 4ms/step - loss: 0.5757 - accuracy: 0.7994 - val_loss: 0.6274 - val_accuracy: 0.7936\n",
            "Epoch 37/100\n",
            "118/118 [==============================] - 1s 6ms/step - loss: 0.5586 - accuracy: 0.8054 - val_loss: 0.6253 - val_accuracy: 0.7882\n",
            "Epoch 38/100\n",
            "118/118 [==============================] - 1s 6ms/step - loss: 0.5645 - accuracy: 0.8031 - val_loss: 0.6223 - val_accuracy: 0.7930\n",
            "Epoch 39/100\n",
            "118/118 [==============================] - 1s 5ms/step - loss: 0.5682 - accuracy: 0.8045 - val_loss: 0.6172 - val_accuracy: 0.7939\n",
            "Epoch 40/100\n",
            "118/118 [==============================] - 1s 5ms/step - loss: 0.5702 - accuracy: 0.8014 - val_loss: 0.6644 - val_accuracy: 0.7769\n",
            "Epoch 41/100\n",
            "118/118 [==============================] - 1s 5ms/step - loss: 0.5726 - accuracy: 0.8019 - val_loss: 0.6050 - val_accuracy: 0.7977\n",
            "Epoch 42/100\n",
            "118/118 [==============================] - 1s 4ms/step - loss: 0.5647 - accuracy: 0.8034 - val_loss: 0.6054 - val_accuracy: 0.7864\n",
            "Epoch 43/100\n",
            "118/118 [==============================] - 0s 4ms/step - loss: 0.5589 - accuracy: 0.8059 - val_loss: 0.5913 - val_accuracy: 0.7989\n",
            "Epoch 44/100\n",
            "118/118 [==============================] - 0s 4ms/step - loss: 0.5707 - accuracy: 0.8023 - val_loss: 0.5926 - val_accuracy: 0.7979\n",
            "Epoch 45/100\n",
            "118/118 [==============================] - 0s 4ms/step - loss: 0.5686 - accuracy: 0.8036 - val_loss: 0.6419 - val_accuracy: 0.7862\n",
            "Epoch 46/100\n",
            "118/118 [==============================] - 0s 4ms/step - loss: 0.5565 - accuracy: 0.8062 - val_loss: 0.6084 - val_accuracy: 0.7966\n",
            "Epoch 47/100\n",
            "118/118 [==============================] - 0s 4ms/step - loss: 0.5646 - accuracy: 0.8047 - val_loss: 0.6727 - val_accuracy: 0.7660\n",
            "Epoch 48/100\n",
            "118/118 [==============================] - 0s 4ms/step - loss: 0.5641 - accuracy: 0.8023 - val_loss: 0.6111 - val_accuracy: 0.7936\n",
            "Epoch 49/100\n",
            "118/118 [==============================] - 0s 4ms/step - loss: 0.5598 - accuracy: 0.8049 - val_loss: 0.6210 - val_accuracy: 0.7855\n",
            "Epoch 50/100\n",
            "118/118 [==============================] - 0s 4ms/step - loss: 0.5611 - accuracy: 0.8056 - val_loss: 0.6037 - val_accuracy: 0.7968\n",
            "Epoch 51/100\n",
            "118/118 [==============================] - 1s 4ms/step - loss: 0.5781 - accuracy: 0.7977 - val_loss: 0.6604 - val_accuracy: 0.7668\n",
            "Epoch 52/100\n",
            "118/118 [==============================] - 0s 4ms/step - loss: 0.5592 - accuracy: 0.8041 - val_loss: 0.6303 - val_accuracy: 0.7904\n",
            "Epoch 53/100\n",
            "118/118 [==============================] - 0s 4ms/step - loss: 0.5563 - accuracy: 0.8058 - val_loss: 0.6058 - val_accuracy: 0.7965\n",
            "Epoch 54/100\n",
            "118/118 [==============================] - 1s 5ms/step - loss: 0.5490 - accuracy: 0.8089 - val_loss: 0.7100 - val_accuracy: 0.7735\n",
            "Epoch 55/100\n",
            "118/118 [==============================] - 1s 5ms/step - loss: 0.5560 - accuracy: 0.8053 - val_loss: 0.6474 - val_accuracy: 0.7816\n",
            "Epoch 56/100\n",
            "118/118 [==============================] - 1s 4ms/step - loss: 0.5646 - accuracy: 0.8040 - val_loss: 0.6090 - val_accuracy: 0.7962\n",
            "Epoch 57/100\n",
            "118/118 [==============================] - 0s 4ms/step - loss: 0.5487 - accuracy: 0.8085 - val_loss: 0.6027 - val_accuracy: 0.7972\n",
            "Epoch 58/100\n",
            "118/118 [==============================] - 0s 4ms/step - loss: 0.5476 - accuracy: 0.8103 - val_loss: 0.6362 - val_accuracy: 0.7825\n",
            "Epoch 59/100\n",
            "118/118 [==============================] - 0s 4ms/step - loss: 0.5583 - accuracy: 0.8045 - val_loss: 0.6182 - val_accuracy: 0.7849\n",
            "Epoch 60/100\n",
            "118/118 [==============================] - 0s 4ms/step - loss: 0.5482 - accuracy: 0.8087 - val_loss: 0.5968 - val_accuracy: 0.7983\n",
            "Epoch 61/100\n",
            "118/118 [==============================] - 1s 5ms/step - loss: 0.5399 - accuracy: 0.8121 - val_loss: 0.5930 - val_accuracy: 0.8015\n",
            "Epoch 62/100\n",
            "118/118 [==============================] - 1s 6ms/step - loss: 0.5561 - accuracy: 0.8066 - val_loss: 0.6134 - val_accuracy: 0.7917\n",
            "Epoch 63/100\n",
            "118/118 [==============================] - 1s 6ms/step - loss: 0.5420 - accuracy: 0.8099 - val_loss: 0.5892 - val_accuracy: 0.7990\n",
            "Epoch 64/100\n",
            "118/118 [==============================] - 1s 6ms/step - loss: 0.5338 - accuracy: 0.8130 - val_loss: 0.5988 - val_accuracy: 0.7954\n",
            "Epoch 65/100\n",
            "118/118 [==============================] - 1s 4ms/step - loss: 0.5601 - accuracy: 0.8044 - val_loss: 0.6240 - val_accuracy: 0.7870\n",
            "Epoch 66/100\n",
            "118/118 [==============================] - 0s 4ms/step - loss: 0.5506 - accuracy: 0.8092 - val_loss: 0.5944 - val_accuracy: 0.7940\n",
            "Epoch 67/100\n",
            "118/118 [==============================] - 1s 4ms/step - loss: 0.5353 - accuracy: 0.8127 - val_loss: 0.6846 - val_accuracy: 0.7677\n",
            "Epoch 68/100\n",
            "118/118 [==============================] - 1s 4ms/step - loss: 0.5668 - accuracy: 0.8033 - val_loss: 0.6279 - val_accuracy: 0.7841\n",
            "Epoch 69/100\n",
            "118/118 [==============================] - 1s 4ms/step - loss: 0.5601 - accuracy: 0.8034 - val_loss: 0.6028 - val_accuracy: 0.7987\n",
            "Epoch 70/100\n",
            "118/118 [==============================] - 0s 4ms/step - loss: 0.5465 - accuracy: 0.8108 - val_loss: 0.5992 - val_accuracy: 0.7964\n",
            "Epoch 71/100\n",
            "118/118 [==============================] - 0s 4ms/step - loss: 0.5530 - accuracy: 0.8055 - val_loss: 0.6461 - val_accuracy: 0.7874\n",
            "Epoch 72/100\n",
            "118/118 [==============================] - 0s 4ms/step - loss: 0.5451 - accuracy: 0.8087 - val_loss: 0.6588 - val_accuracy: 0.7870\n",
            "Epoch 73/100\n",
            "118/118 [==============================] - 0s 4ms/step - loss: 0.5579 - accuracy: 0.8051 - val_loss: 0.5937 - val_accuracy: 0.7976\n",
            "Epoch 74/100\n",
            "118/118 [==============================] - 0s 4ms/step - loss: 0.5451 - accuracy: 0.8106 - val_loss: 0.5950 - val_accuracy: 0.7944\n",
            "Epoch 75/100\n",
            "118/118 [==============================] - 0s 4ms/step - loss: 0.5464 - accuracy: 0.8103 - val_loss: 0.6436 - val_accuracy: 0.7772\n",
            "Epoch 76/100\n",
            "118/118 [==============================] - 0s 4ms/step - loss: 0.5343 - accuracy: 0.8134 - val_loss: 0.6746 - val_accuracy: 0.7651\n",
            "Epoch 77/100\n",
            "118/118 [==============================] - 0s 4ms/step - loss: 0.5491 - accuracy: 0.8087 - val_loss: 0.6014 - val_accuracy: 0.7992\n",
            "Epoch 78/100\n",
            "118/118 [==============================] - 1s 4ms/step - loss: 0.5689 - accuracy: 0.8036 - val_loss: 0.6102 - val_accuracy: 0.7919\n",
            "Epoch 79/100\n",
            "118/118 [==============================] - 1s 4ms/step - loss: 0.5538 - accuracy: 0.8073 - val_loss: 0.6014 - val_accuracy: 0.7931\n",
            "Epoch 80/100\n",
            "118/118 [==============================] - 0s 4ms/step - loss: 0.5357 - accuracy: 0.8139 - val_loss: 0.6085 - val_accuracy: 0.7990\n",
            "Epoch 81/100\n",
            "118/118 [==============================] - 0s 4ms/step - loss: 0.5497 - accuracy: 0.8090 - val_loss: 0.6132 - val_accuracy: 0.7903\n",
            "Epoch 82/100\n",
            "118/118 [==============================] - 0s 4ms/step - loss: 0.5407 - accuracy: 0.8096 - val_loss: 0.5976 - val_accuracy: 0.8005\n",
            "Epoch 83/100\n",
            "118/118 [==============================] - 0s 4ms/step - loss: 0.5505 - accuracy: 0.8084 - val_loss: 0.6077 - val_accuracy: 0.7983\n",
            "Epoch 84/100\n",
            "118/118 [==============================] - 0s 4ms/step - loss: 0.5432 - accuracy: 0.8092 - val_loss: 0.5873 - val_accuracy: 0.8015\n",
            "Epoch 85/100\n",
            "118/118 [==============================] - 1s 6ms/step - loss: 0.5355 - accuracy: 0.8108 - val_loss: 0.6210 - val_accuracy: 0.7867\n",
            "Epoch 86/100\n",
            "118/118 [==============================] - 1s 6ms/step - loss: 0.5459 - accuracy: 0.8090 - val_loss: 0.5867 - val_accuracy: 0.8024\n",
            "Epoch 87/100\n",
            "118/118 [==============================] - 1s 6ms/step - loss: 0.5471 - accuracy: 0.8073 - val_loss: 0.6513 - val_accuracy: 0.7823\n",
            "Epoch 88/100\n",
            "118/118 [==============================] - 1s 5ms/step - loss: 0.5388 - accuracy: 0.8102 - val_loss: 0.5904 - val_accuracy: 0.7987\n",
            "Epoch 89/100\n",
            "118/118 [==============================] - 0s 4ms/step - loss: 0.5221 - accuracy: 0.8152 - val_loss: 0.5746 - val_accuracy: 0.8018\n",
            "Epoch 90/100\n",
            "118/118 [==============================] - 1s 4ms/step - loss: 0.5469 - accuracy: 0.8086 - val_loss: 0.6177 - val_accuracy: 0.7950\n",
            "Epoch 91/100\n",
            "118/118 [==============================] - 0s 4ms/step - loss: 0.5177 - accuracy: 0.8182 - val_loss: 0.5890 - val_accuracy: 0.8004\n",
            "Epoch 92/100\n",
            "118/118 [==============================] - 1s 4ms/step - loss: 0.5461 - accuracy: 0.8078 - val_loss: 0.6499 - val_accuracy: 0.7693\n",
            "Epoch 93/100\n",
            "118/118 [==============================] - 1s 4ms/step - loss: 0.5477 - accuracy: 0.8071 - val_loss: 0.6363 - val_accuracy: 0.7843\n",
            "Epoch 94/100\n",
            "118/118 [==============================] - 1s 4ms/step - loss: 0.5477 - accuracy: 0.8066 - val_loss: 0.6551 - val_accuracy: 0.7887\n",
            "Epoch 95/100\n",
            "118/118 [==============================] - 0s 4ms/step - loss: 0.5544 - accuracy: 0.8041 - val_loss: 0.6066 - val_accuracy: 0.7890\n",
            "Epoch 96/100\n",
            "118/118 [==============================] - 1s 4ms/step - loss: 0.5374 - accuracy: 0.8136 - val_loss: 0.6155 - val_accuracy: 0.7891\n",
            "Epoch 97/100\n",
            "118/118 [==============================] - 1s 4ms/step - loss: 0.5338 - accuracy: 0.8127 - val_loss: 0.6276 - val_accuracy: 0.7893\n",
            "Epoch 98/100\n",
            "118/118 [==============================] - 0s 4ms/step - loss: 0.5255 - accuracy: 0.8163 - val_loss: 0.6189 - val_accuracy: 0.7881\n",
            "Epoch 99/100\n",
            "118/118 [==============================] - 0s 4ms/step - loss: 0.5379 - accuracy: 0.8127 - val_loss: 0.5952 - val_accuracy: 0.8031\n",
            "Epoch 100/100\n",
            "118/118 [==============================] - 1s 4ms/step - loss: 0.5594 - accuracy: 0.8043 - val_loss: 0.6282 - val_accuracy: 0.7910\n"
          ]
        }
      ]
    },
    {
      "cell_type": "code",
      "source": [],
      "metadata": {
        "id": "H9Zgv1O7UcFU"
      },
      "execution_count": null,
      "outputs": []
    }
  ]
}